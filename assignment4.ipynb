{
 "cells": [
  {
   "cell_type": "markdown",
   "metadata": {},
   "source": [
    "1.1 Write a Python Program(with class concepts) to find the area of the triangle using the below\n",
    "formula.\n",
    "area = (s*(s-a)*(s-b)*(s-c)) ** 0.5\n",
    "Function to take the length of the sides of triangle from user should be defined in the parent\n",
    "class and function to calculate the area should be defined in subclass."
   ]
  },
  {
   "cell_type": "code",
   "execution_count": 37,
   "metadata": {},
   "outputs": [],
   "source": [
    "class Triangle():\n",
    "    def __init__(self):\n",
    "        total_sides = ['a', 'b','c']\n",
    "        self.total_sides = total_sides\n",
    "    \n",
    "    def value_triangle(self):\n",
    "        self.value_triangle = [float(input(i+': ')) for i in self.total_sides]\n",
    "\n",
    "class Area(Triangle):\n",
    "    def __init__(self):\n",
    "        Triangle.__init__(self)\n",
    "    def triangle_area(self):\n",
    "        sides = iter(self.value_triangle)\n",
    "        a=next(sides)\n",
    "        b=next(sides)\n",
    "        c =next(sides)\n",
    "        s = (a+b+c)*0.5\n",
    "        area = (s*(s-a)*(s-b)*(s-c))*0.5\n",
    "        print(area)"
   ]
  },
  {
   "cell_type": "code",
   "execution_count": 38,
   "metadata": {},
   "outputs": [
    {
     "name": "stdout",
     "output_type": "stream",
     "text": [
      "a: 2\n",
      "b: 3\n",
      "c: 4\n"
     ]
    }
   ],
   "source": [
    "a=Area()\n",
    "a.value_triangle()"
   ]
  },
  {
   "cell_type": "code",
   "execution_count": 39,
   "metadata": {},
   "outputs": [
    {
     "name": "stdout",
     "output_type": "stream",
     "text": [
      "4.21875\n"
     ]
    }
   ],
   "source": [
    "a.triangle_area()"
   ]
  },
  {
   "cell_type": "code",
   "execution_count": 17,
   "metadata": {},
   "outputs": [
    {
     "data": {
      "text/plain": [
       "{'total_sides': ['a', 'b', 'c'], 'value_triangle': [2.0, 3.0, 4.0]}"
      ]
     },
     "execution_count": 17,
     "metadata": {},
     "output_type": "execute_result"
    }
   ],
   "source": [
    "a.__dict__"
   ]
  },
  {
   "cell_type": "code",
   "execution_count": null,
   "metadata": {},
   "outputs": [],
   "source": []
  },
  {
   "cell_type": "markdown",
   "metadata": {},
   "source": [
    "1.2 Write a function filter_long_words() that takes a list of words and an integer n and returns\n",
    "the list of words that are longer than n."
   ]
  },
  {
   "cell_type": "code",
   "execution_count": 7,
   "metadata": {},
   "outputs": [
    {
     "name": "stdout",
     "output_type": "stream",
     "text": [
      "Taj Mahal, Bhopal , City, Ajmer\n",
      "4\n",
      "['Taj Mahal', 'Bhopal', 'Ajmer']\n"
     ]
    }
   ],
   "source": [
    "def longerWord(word, number):\n",
    "    wordlist = [i.strip() for i in word if len(i.strip()) > number]\n",
    "    if len(wordlist)>0:\n",
    "        return wordlist\n",
    "    else:\n",
    "        return 'no word is greater than given number '+str(number)\n",
    "\n",
    "word = list(input().split(','))\n",
    "number = int(input())\n",
    "answer = longerWord(word, number)\n",
    "print(answer)"
   ]
  },
  {
   "cell_type": "code",
   "execution_count": null,
   "metadata": {},
   "outputs": [],
   "source": []
  },
  {
   "cell_type": "markdown",
   "metadata": {},
   "source": [
    "2.1 Write a Python program using function concept that maps list of words into a list of integers\n",
    "representing the lengths of the corresponding words.\n",
    "Hint: If a list [ ab,cde,erty] is passed on to the python function output should come as [2,3,4]\n",
    "Here 2,3 and 4 are the lengths of the words in the list."
   ]
  },
  {
   "cell_type": "code",
   "execution_count": 3,
   "metadata": {},
   "outputs": [
    {
     "name": "stdout",
     "output_type": "stream",
     "text": [
      "aa,sdada,rrr,rrwtwdssa\n",
      "[2, 5, 3, 9]\n"
     ]
    }
   ],
   "source": [
    "def wordToLength(l1):\n",
    "    return list(map(len, l1))\n",
    "word = list(input().split(','))\n",
    "l1 = [i.strip() for i in word]\n",
    "ans=wordToLength(l1)\n",
    "print(ans)"
   ]
  },
  {
   "cell_type": "code",
   "execution_count": null,
   "metadata": {},
   "outputs": [],
   "source": []
  },
  {
   "cell_type": "markdown",
   "metadata": {},
   "source": [
    "2.2 Write a Python function which takes a character (i.e. a string of length 1) and returns True if\n",
    "it is a vowel, False otherwise."
   ]
  },
  {
   "cell_type": "code",
   "execution_count": 12,
   "metadata": {},
   "outputs": [
    {
     "name": "stdout",
     "output_type": "stream",
     "text": [
      "e\n",
      "True\n"
     ]
    }
   ],
   "source": [
    "def check_vowel(char):\n",
    "    if (len(char)==1):\n",
    "        vowel = ['a', 'i', 'e', 'o', 'u']\n",
    "        if char.lower() in vowel:\n",
    "            value= True\n",
    "        else:\n",
    "            value= False\n",
    "    else:\n",
    "        print('please enter single char value')\n",
    "    return value\n",
    "\n",
    "char = input()\n",
    "ans=check_vowel(char)\n",
    "print(ans)"
   ]
  },
  {
   "cell_type": "code",
   "execution_count": null,
   "metadata": {},
   "outputs": [],
   "source": []
  },
  {
   "cell_type": "code",
   "execution_count": null,
   "metadata": {},
   "outputs": [],
   "source": []
  }
 ],
 "metadata": {
  "kernelspec": {
   "display_name": "Python 3",
   "language": "python",
   "name": "python3"
  },
  "language_info": {
   "codemirror_mode": {
    "name": "ipython",
    "version": 3
   },
   "file_extension": ".py",
   "mimetype": "text/x-python",
   "name": "python",
   "nbconvert_exporter": "python",
   "pygments_lexer": "ipython3",
   "version": "3.7.4"
  }
 },
 "nbformat": 4,
 "nbformat_minor": 4
}
